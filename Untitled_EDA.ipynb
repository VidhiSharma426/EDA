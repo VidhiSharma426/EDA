{
 "cells": [
  {
   "cell_type": "markdown",
   "id": "857aac42",
   "metadata": {},
   "source": [
    "\n",
    "**Perform Exploratory Data Analysis (EDA) by:**\n",
    "1. Loading the data.\n",
    "2. Checking for missing values.\n",
    "3. Summarizing the data.\n",
    "4. Exploring relationships between variables.\n",
    "5. Visualizing the data.\n",
    "6. Handling outliers.\n",
    "7. Conducting feature engineering.\n",
    "8. Iteratively analyzing and refining.\n",
    "9. Documenting and communicating findings."
   ]
  },
  {
   "cell_type": "markdown",
   "id": "4e5362fd",
   "metadata": {},
   "source": [
    "importing all the libraries"
   ]
  },
  {
   "cell_type": "code",
   "execution_count": 1,
   "id": "2b4b448b",
   "metadata": {},
   "outputs": [],
   "source": [
    "\n",
    "import pandas as pd\n",
    "import numpy as np\n",
    "import matplotlib.pyplot as plt\n",
    "import seaborn as sns"
   ]
  },
  {
   "cell_type": "markdown",
   "id": "491ce50d",
   "metadata": {},
   "source": [
    "Reading the data "
   ]
  },
  {
   "cell_type": "code",
   "execution_count": 2,
   "id": "7bbac02b",
   "metadata": {},
   "outputs": [],
   "source": [
    "df=pd.read_csv(\"C:\\\\Users\\\\hp\\\\bank_tansfer\\\\bank_transactions.csv\")\n",
    "# reading/loading the data"
   ]
  },
  {
   "cell_type": "code",
   "execution_count": 3,
   "id": "232a3c96",
   "metadata": {},
   "outputs": [
    {
     "data": {
      "text/html": [
       "<div>\n",
       "<style scoped>\n",
       "    .dataframe tbody tr th:only-of-type {\n",
       "        vertical-align: middle;\n",
       "    }\n",
       "\n",
       "    .dataframe tbody tr th {\n",
       "        vertical-align: top;\n",
       "    }\n",
       "\n",
       "    .dataframe thead th {\n",
       "        text-align: right;\n",
       "    }\n",
       "</style>\n",
       "<table border=\"1\" class=\"dataframe\">\n",
       "  <thead>\n",
       "    <tr style=\"text-align: right;\">\n",
       "      <th></th>\n",
       "      <th>TransactionID</th>\n",
       "      <th>CustomerID</th>\n",
       "      <th>CustomerDOB</th>\n",
       "      <th>CustGender</th>\n",
       "      <th>CustLocation</th>\n",
       "      <th>CustAccountBalance</th>\n",
       "      <th>TransactionDate</th>\n",
       "      <th>TransactionTime</th>\n",
       "      <th>TransactionAmount (INR)</th>\n",
       "    </tr>\n",
       "  </thead>\n",
       "  <tbody>\n",
       "    <tr>\n",
       "      <th>0</th>\n",
       "      <td>T1</td>\n",
       "      <td>C5841053</td>\n",
       "      <td>10/1/94</td>\n",
       "      <td>F</td>\n",
       "      <td>JAMSHEDPUR</td>\n",
       "      <td>17819.05</td>\n",
       "      <td>2/8/16</td>\n",
       "      <td>143207</td>\n",
       "      <td>25.0</td>\n",
       "    </tr>\n",
       "    <tr>\n",
       "      <th>1</th>\n",
       "      <td>T2</td>\n",
       "      <td>C2142763</td>\n",
       "      <td>4/4/57</td>\n",
       "      <td>M</td>\n",
       "      <td>JHAJJAR</td>\n",
       "      <td>2270.69</td>\n",
       "      <td>2/8/16</td>\n",
       "      <td>141858</td>\n",
       "      <td>27999.0</td>\n",
       "    </tr>\n",
       "    <tr>\n",
       "      <th>2</th>\n",
       "      <td>T3</td>\n",
       "      <td>C4417068</td>\n",
       "      <td>26/11/96</td>\n",
       "      <td>F</td>\n",
       "      <td>MUMBAI</td>\n",
       "      <td>17874.44</td>\n",
       "      <td>2/8/16</td>\n",
       "      <td>142712</td>\n",
       "      <td>459.0</td>\n",
       "    </tr>\n",
       "    <tr>\n",
       "      <th>3</th>\n",
       "      <td>T4</td>\n",
       "      <td>C5342380</td>\n",
       "      <td>14/9/73</td>\n",
       "      <td>F</td>\n",
       "      <td>MUMBAI</td>\n",
       "      <td>866503.21</td>\n",
       "      <td>2/8/16</td>\n",
       "      <td>142714</td>\n",
       "      <td>2060.0</td>\n",
       "    </tr>\n",
       "    <tr>\n",
       "      <th>4</th>\n",
       "      <td>T5</td>\n",
       "      <td>C9031234</td>\n",
       "      <td>24/3/88</td>\n",
       "      <td>F</td>\n",
       "      <td>NAVI MUMBAI</td>\n",
       "      <td>6714.43</td>\n",
       "      <td>2/8/16</td>\n",
       "      <td>181156</td>\n",
       "      <td>1762.5</td>\n",
       "    </tr>\n",
       "  </tbody>\n",
       "</table>\n",
       "</div>"
      ],
      "text/plain": [
       "  TransactionID CustomerID CustomerDOB CustGender CustLocation  \\\n",
       "0            T1   C5841053     10/1/94          F   JAMSHEDPUR   \n",
       "1            T2   C2142763      4/4/57          M      JHAJJAR   \n",
       "2            T3   C4417068    26/11/96          F       MUMBAI   \n",
       "3            T4   C5342380     14/9/73          F       MUMBAI   \n",
       "4            T5   C9031234     24/3/88          F  NAVI MUMBAI   \n",
       "\n",
       "   CustAccountBalance TransactionDate  TransactionTime  \\\n",
       "0            17819.05          2/8/16           143207   \n",
       "1             2270.69          2/8/16           141858   \n",
       "2            17874.44          2/8/16           142712   \n",
       "3           866503.21          2/8/16           142714   \n",
       "4             6714.43          2/8/16           181156   \n",
       "\n",
       "   TransactionAmount (INR)  \n",
       "0                     25.0  \n",
       "1                  27999.0  \n",
       "2                    459.0  \n",
       "3                   2060.0  \n",
       "4                   1762.5  "
      ]
     },
     "execution_count": 3,
     "metadata": {},
     "output_type": "execute_result"
    }
   ],
   "source": [
    "df.head()\n",
    "# presenting 5 values\n",
    " "
   ]
  },
  {
   "cell_type": "markdown",
   "id": "510c2876",
   "metadata": {},
   "source": [
    "let's briefly explain each of these columns:\n",
    "\n",
    "1. **TransactionID**: A unique identifier for each transaction.\n",
    "2. **CustomerID**: A unique identifier for each customer.\n",
    "3. **CustomerDOB**: The date of birth of the customer.\n",
    "4. **CustGender**: The gender of the customer (e.g., Male, Female, Other).\n",
    "5. **CustLocation**: The location or address of the customer.\n",
    "6. **CustAccountBalance**: The account balance of the customer.\n",
    "7. **TransactionDate**: The date when the transaction occurred.\n",
    "8. **TransactionTime**: The time when the transaction occurred.\n",
    "9. **TransactionAmount (INR)**: The amount of the transaction in Indian Rupees.\n",
    "\n",
    "These columns provide information about the transactions and the customers involved, including their demographics, account information, and details about the transactions themselves (date, time, and amount)."
   ]
  },
  {
   "cell_type": "code",
   "execution_count": 4,
   "id": "d5118ee4",
   "metadata": {},
   "outputs": [
    {
     "name": "stdout",
     "output_type": "stream",
     "text": [
      "<class 'pandas.core.frame.DataFrame'>\n",
      "RangeIndex: 1048567 entries, 0 to 1048566\n",
      "Data columns (total 9 columns):\n",
      " #   Column                   Non-Null Count    Dtype  \n",
      "---  ------                   --------------    -----  \n",
      " 0   TransactionID            1048567 non-null  object \n",
      " 1   CustomerID               1048567 non-null  object \n",
      " 2   CustomerDOB              1045170 non-null  object \n",
      " 3   CustGender               1047467 non-null  object \n",
      " 4   CustLocation             1048416 non-null  object \n",
      " 5   CustAccountBalance       1046198 non-null  float64\n",
      " 6   TransactionDate          1048567 non-null  object \n",
      " 7   TransactionTime          1048567 non-null  int64  \n",
      " 8   TransactionAmount (INR)  1048567 non-null  float64\n",
      "dtypes: float64(2), int64(1), object(6)\n",
      "memory usage: 72.0+ MB\n"
     ]
    }
   ],
   "source": [
    "df.info()"
   ]
  },
  {
   "cell_type": "markdown",
   "id": "3b46098a",
   "metadata": {},
   "source": [
    "**\"In the provided dataset, the 'info' function indicates that there are two columns with float data type, while the remaining columns are of object data type.\"**"
   ]
  },
  {
   "cell_type": "code",
   "execution_count": 5,
   "id": "e7afb95f",
   "metadata": {},
   "outputs": [
    {
     "data": {
      "text/plain": [
       "Index(['TransactionID', 'CustomerID', 'CustomerDOB', 'CustGender',\n",
       "       'CustLocation', 'CustAccountBalance', 'TransactionDate',\n",
       "       'TransactionTime', 'TransactionAmount (INR)'],\n",
       "      dtype='object')"
      ]
     },
     "execution_count": 5,
     "metadata": {},
     "output_type": "execute_result"
    }
   ],
   "source": [
    "df.columns\n",
    "# seeing the column name"
   ]
  },
  {
   "cell_type": "markdown",
   "id": "61128c3e",
   "metadata": {},
   "source": [
    "**\"The 'columns' function provides a comprehensive list of columns present in our dataset, offering valuable insight into the dataset's structure.\"**"
   ]
  },
  {
   "cell_type": "code",
   "execution_count": 6,
   "id": "c13b539e",
   "metadata": {},
   "outputs": [
    {
     "data": {
      "text/plain": [
       "0"
      ]
     },
     "execution_count": 6,
     "metadata": {},
     "output_type": "execute_result"
    }
   ],
   "source": [
    "df.duplicated().sum()\n",
    "# no duplicates present"
   ]
  },
  {
   "cell_type": "markdown",
   "id": "4e2c2622",
   "metadata": {},
   "source": [
    "\n",
    "**\"The above mentioned function indicates that there are no duplicate rows present in the dataset, underscoring the data's integrity and uniqueness.\"**"
   ]
  },
  {
   "cell_type": "code",
   "execution_count": 7,
   "id": "ff91b126",
   "metadata": {},
   "outputs": [
    {
     "data": {
      "text/plain": [
       "TransactionID                 0\n",
       "CustomerID                    0\n",
       "CustomerDOB                3397\n",
       "CustGender                 1100\n",
       "CustLocation                151\n",
       "CustAccountBalance         2369\n",
       "TransactionDate               0\n",
       "TransactionTime               0\n",
       "TransactionAmount (INR)       0\n",
       "dtype: int64"
      ]
     },
     "execution_count": 7,
     "metadata": {},
     "output_type": "execute_result"
    }
   ],
   "source": [
    "df.isnull().sum()\n",
    "# checking the null values\n",
    "# CustomerDOB have 3397 ,CustGender have 1100 , CustLocation have 151 and CustAccountBalance have 2369 null values -----> we will impute it"
   ]
  },
  {
   "cell_type": "markdown",
   "id": "e8e580d5",
   "metadata": {},
   "source": [
    "\n",
    "**\"The dataset reveals the presence of null values in specific columns, with counts as follows: 3397 null values in the 'Customer DOB' column, 1100 in 'Customer Gender', 151 in 'Customer Location', and 2369 in 'Customer Account Balance'.\"**"
   ]
  },
  {
   "cell_type": "code",
   "execution_count": 8,
   "id": "00b4b0ba",
   "metadata": {},
   "outputs": [
    {
     "data": {
      "text/plain": [
       "TransactionID               object\n",
       "CustomerID                  object\n",
       "CustomerDOB                 object\n",
       "CustGender                  object\n",
       "CustLocation                object\n",
       "CustAccountBalance         float64\n",
       "TransactionDate             object\n",
       "TransactionTime              int64\n",
       "TransactionAmount (INR)    float64\n",
       "dtype: object"
      ]
     },
     "execution_count": 8,
     "metadata": {},
     "output_type": "execute_result"
    }
   ],
   "source": [
    "df.dtypes\n"
   ]
  },
  {
   "cell_type": "markdown",
   "id": "b854a7be",
   "metadata": {},
   "source": [
    "**CustAccountBalance and TrasasactionAmount are float and numerical in nature**\n",
    " **TransactionID', 'CustomerID', 'CustomerDOB', 'CustGender','CustLocation',TransactionDate' are object in nature**\n",
    " **Trasaction time is int in nature**"
   ]
  },
  {
   "cell_type": "code",
   "execution_count": 9,
   "id": "98803d9a",
   "metadata": {},
   "outputs": [
    {
     "data": {
      "text/html": [
       "<div>\n",
       "<style scoped>\n",
       "    .dataframe tbody tr th:only-of-type {\n",
       "        vertical-align: middle;\n",
       "    }\n",
       "\n",
       "    .dataframe tbody tr th {\n",
       "        vertical-align: top;\n",
       "    }\n",
       "\n",
       "    .dataframe thead th {\n",
       "        text-align: right;\n",
       "    }\n",
       "</style>\n",
       "<table border=\"1\" class=\"dataframe\">\n",
       "  <thead>\n",
       "    <tr style=\"text-align: right;\">\n",
       "      <th></th>\n",
       "      <th>CustAccountBalance</th>\n",
       "      <th>TransactionTime</th>\n",
       "      <th>TransactionAmount (INR)</th>\n",
       "    </tr>\n",
       "  </thead>\n",
       "  <tbody>\n",
       "    <tr>\n",
       "      <th>count</th>\n",
       "      <td>1.046198e+06</td>\n",
       "      <td>1.048567e+06</td>\n",
       "      <td>1.048567e+06</td>\n",
       "    </tr>\n",
       "    <tr>\n",
       "      <th>mean</th>\n",
       "      <td>1.154035e+05</td>\n",
       "      <td>1.570875e+05</td>\n",
       "      <td>1.574335e+03</td>\n",
       "    </tr>\n",
       "    <tr>\n",
       "      <th>std</th>\n",
       "      <td>8.464854e+05</td>\n",
       "      <td>5.126185e+04</td>\n",
       "      <td>6.574743e+03</td>\n",
       "    </tr>\n",
       "    <tr>\n",
       "      <th>min</th>\n",
       "      <td>0.000000e+00</td>\n",
       "      <td>0.000000e+00</td>\n",
       "      <td>0.000000e+00</td>\n",
       "    </tr>\n",
       "    <tr>\n",
       "      <th>25%</th>\n",
       "      <td>4.721760e+03</td>\n",
       "      <td>1.240300e+05</td>\n",
       "      <td>1.610000e+02</td>\n",
       "    </tr>\n",
       "    <tr>\n",
       "      <th>50%</th>\n",
       "      <td>1.679218e+04</td>\n",
       "      <td>1.642260e+05</td>\n",
       "      <td>4.590300e+02</td>\n",
       "    </tr>\n",
       "    <tr>\n",
       "      <th>75%</th>\n",
       "      <td>5.765736e+04</td>\n",
       "      <td>2.000100e+05</td>\n",
       "      <td>1.200000e+03</td>\n",
       "    </tr>\n",
       "    <tr>\n",
       "      <th>max</th>\n",
       "      <td>1.150355e+08</td>\n",
       "      <td>2.359590e+05</td>\n",
       "      <td>1.560035e+06</td>\n",
       "    </tr>\n",
       "  </tbody>\n",
       "</table>\n",
       "</div>"
      ],
      "text/plain": [
       "       CustAccountBalance  TransactionTime  TransactionAmount (INR)\n",
       "count        1.046198e+06     1.048567e+06             1.048567e+06\n",
       "mean         1.154035e+05     1.570875e+05             1.574335e+03\n",
       "std          8.464854e+05     5.126185e+04             6.574743e+03\n",
       "min          0.000000e+00     0.000000e+00             0.000000e+00\n",
       "25%          4.721760e+03     1.240300e+05             1.610000e+02\n",
       "50%          1.679218e+04     1.642260e+05             4.590300e+02\n",
       "75%          5.765736e+04     2.000100e+05             1.200000e+03\n",
       "max          1.150355e+08     2.359590e+05             1.560035e+06"
      ]
     },
     "execution_count": 9,
     "metadata": {},
     "output_type": "execute_result"
    }
   ],
   "source": [
    "\n",
    "df.describe()"
   ]
  },
  {
   "cell_type": "markdown",
   "id": "66055b77",
   "metadata": {},
   "source": [
    "\n",
    "**\"The average customer balance is calculated to be 1.154035e+05, while the average transaction amount stands at 1.574335e+03. Furthermore, it's noted that for a transaction to be processed successfully, the customer's account balance must exceed the transaction amount.\"**"
   ]
  },
  {
   "cell_type": "code",
   "execution_count": 10,
   "id": "42c022f3",
   "metadata": {},
   "outputs": [
    {
     "data": {
      "text/plain": [
       "(1048567, 9)"
      ]
     },
     "execution_count": 10,
     "metadata": {},
     "output_type": "execute_result"
    }
   ],
   "source": [
    "df.shape\n",
    "# 104857 rows and 9 columns"
   ]
  },
  {
   "cell_type": "markdown",
   "id": "6e9e8d44",
   "metadata": {},
   "source": [
    "\n",
    "**\"The dataset comprises 1,048,567 rows and 9 columns.\"**"
   ]
  },
  {
   "cell_type": "code",
   "execution_count": 11,
   "id": "b7f29f05",
   "metadata": {},
   "outputs": [],
   "source": [
    "\n",
    "df.drop(['CustomerID','TransactionID'], axis = 1, inplace = True)\n",
    "# CustomerID and TransactionID doesnt have large impact "
   ]
  },
  {
   "cell_type": "markdown",
   "id": "b416ad38",
   "metadata": {},
   "source": [
    "\n",
    "**\"Although present, the 'Customer ID' and 'Transaction ID' columns may not significantly influence the analysis unless the focus is on fraud detection.\"**"
   ]
  },
  {
   "cell_type": "markdown",
   "id": "51e3d018",
   "metadata": {},
   "source": [
    "### FEATURE ENGINEERING"
   ]
  },
  {
   "cell_type": "code",
   "execution_count": 12,
   "id": "049bf11e",
   "metadata": {},
   "outputs": [],
   "source": [
    "df['CustomerDOB']=df['CustomerDOB'].astype(str).apply(lambda x:x.split('/'))"
   ]
  },
  {
   "cell_type": "markdown",
   "id": "af6a934a",
   "metadata": {},
   "source": [
    "\n",
    "**\"Utilizing the date of birth information of customers, the dataset can be segmented into distinct components representing the day, month, and year of birth.\"**"
   ]
  },
  {
   "cell_type": "code",
   "execution_count": 13,
   "id": "83d1ec28",
   "metadata": {},
   "outputs": [],
   "source": [
    "df['day']=df['CustomerDOB'].apply(lambda x: x[0])"
   ]
  },
  {
   "cell_type": "markdown",
   "id": "d6c707fc",
   "metadata": {},
   "source": [
    "**\"Day extraction from Date of Birth enriches bank data insights for targeted strategies.\"**"
   ]
  },
  {
   "cell_type": "code",
   "execution_count": 14,
   "id": "a8603e1a",
   "metadata": {},
   "outputs": [],
   "source": [
    "df['month']=df['CustomerDOB'].apply(lambda x: x[1] if len(x) >= 3 else None)"
   ]
  },
  {
   "cell_type": "markdown",
   "id": "669fc004",
   "metadata": {},
   "source": [
    "**\"Month extraction from Date of Birth enriches bank data insights for targeted strategies.\"**"
   ]
  },
  {
   "cell_type": "code",
   "execution_count": 15,
   "id": "0ff22060",
   "metadata": {},
   "outputs": [],
   "source": [
    "df['year'] = df['CustomerDOB'].apply(lambda x: x[2] if len(x) >= 3 else None)"
   ]
  },
  {
   "cell_type": "markdown",
   "id": "96358f18",
   "metadata": {},
   "source": [
    "**\"Year extraction from Date of Birth enriches bank data insights for targeted strategies.\"**"
   ]
  },
  {
   "cell_type": "code",
   "execution_count": 16,
   "id": "cde02111",
   "metadata": {},
   "outputs": [],
   "source": [
    "\n",
    "df.drop(['CustomerDOB'], axis = 1, inplace = True)\n"
   ]
  },
  {
   "cell_type": "markdown",
   "id": "2eee3e34",
   "metadata": {},
   "source": [
    "**\"Droppping the null values from CustomerDOB\"**"
   ]
  },
  {
   "cell_type": "code",
   "execution_count": 17,
   "id": "6e087836",
   "metadata": {},
   "outputs": [],
   "source": [
    "df['TransactionDate']=df['TransactionDate'].astype(str).apply(lambda x:x.split('/'))\n",
    "df['Tday']=df['TransactionDate'].apply(lambda x: x[0])\n",
    "df['Tmonth']=df['TransactionDate'].apply(lambda x: x[1])\n",
    "df['Tyear']=df['TransactionDate'].apply(lambda x: x[2])"
   ]
  },
  {
   "cell_type": "markdown",
   "id": "b9271d2f",
   "metadata": {},
   "source": [
    "**\"same for transaction data\"**"
   ]
  },
  {
   "cell_type": "code",
   "execution_count": 18,
   "id": "98c359dd",
   "metadata": {},
   "outputs": [],
   "source": [
    "\n",
    "df.drop(['TransactionDate'], axis = 1, inplace = True)\n"
   ]
  },
  {
   "cell_type": "markdown",
   "id": "497673f5",
   "metadata": {},
   "source": [
    "**\"Droppping the null values from CustomerDOB\"**"
   ]
  },
  {
   "cell_type": "code",
   "execution_count": 19,
   "id": "5ce00ce3",
   "metadata": {},
   "outputs": [
    {
     "name": "stdout",
     "output_type": "stream",
     "text": [
      "<class 'pandas.core.frame.DataFrame'>\n",
      "RangeIndex: 1048567 entries, 0 to 1048566\n",
      "Data columns (total 11 columns):\n",
      " #   Column                   Non-Null Count    Dtype  \n",
      "---  ------                   --------------    -----  \n",
      " 0   CustGender               1047467 non-null  object \n",
      " 1   CustLocation             1048416 non-null  object \n",
      " 2   CustAccountBalance       1046198 non-null  float64\n",
      " 3   TransactionTime          1048567 non-null  int64  \n",
      " 4   TransactionAmount (INR)  1048567 non-null  float64\n",
      " 5   day                      1048567 non-null  object \n",
      " 6   month                    1045170 non-null  object \n",
      " 7   year                     1045170 non-null  object \n",
      " 8   Tday                     1048567 non-null  object \n",
      " 9   Tmonth                   1048567 non-null  object \n",
      " 10  Tyear                    1048567 non-null  object \n",
      "dtypes: float64(2), int64(1), object(8)\n",
      "memory usage: 88.0+ MB\n"
     ]
    }
   ],
   "source": [
    "df.info()"
   ]
  },
  {
   "cell_type": "markdown",
   "id": "e491fb50",
   "metadata": {},
   "source": [
    "**\"To optimize our algorithm's performance, we'll convert all these data types into integers.\"**"
   ]
  },
  {
   "cell_type": "markdown",
   "id": "39f3e22d",
   "metadata": {},
   "source": [
    "### IMPUTING MISSING VALUES"
   ]
  },
  {
   "cell_type": "code",
   "execution_count": 20,
   "id": "894d2123",
   "metadata": {},
   "outputs": [
    {
     "data": {
      "text/plain": [
       "115403.54005622343"
      ]
     },
     "execution_count": 20,
     "metadata": {},
     "output_type": "execute_result"
    }
   ],
   "source": [
    "df['CustAccountBalance'].mean()"
   ]
  },
  {
   "cell_type": "code",
   "execution_count": 21,
   "id": "6c54bdd1",
   "metadata": {},
   "outputs": [],
   "source": [
    "mean_day = df['CustAccountBalance'].mean()\n",
    "df['CustAccountBalance'] = df['CustAccountBalance'].apply(lambda x:  mean_day if pd.isna(x) else x)"
   ]
  },
  {
   "cell_type": "markdown",
   "id": "1a44f16e",
   "metadata": {},
   "source": [
    "**\"We will employ mean imputation to address missing values in the customer account balance column.\"**"
   ]
  },
  {
   "cell_type": "code",
   "execution_count": 22,
   "id": "82ee8de8",
   "metadata": {},
   "outputs": [],
   "source": [
    "mode_gender = df['CustGender'].mode()\n",
    "df['CustGender'] = df['CustGender'].apply(lambda x: mode_gender if pd.isna(x) else x)"
   ]
  },
  {
   "cell_type": "markdown",
   "id": "cd45102c",
   "metadata": {},
   "source": [
    "**\"We will employ mode imputation to address missing values in the customer gender column.\"**"
   ]
  },
  {
   "cell_type": "code",
   "execution_count": 23,
   "id": "0120bdb6",
   "metadata": {},
   "outputs": [],
   "source": [
    "mode_location = df['CustLocation'].mode()\n",
    "df['CustLocation'] = df['CustLocation'].apply(lambda x: mode_location if pd.isna(x) else x)"
   ]
  },
  {
   "cell_type": "markdown",
   "id": "bc099de0",
   "metadata": {},
   "source": [
    "**\"We will employ mode imputation to address missing values in the customer location column.\"**"
   ]
  },
  {
   "cell_type": "code",
   "execution_count": 24,
   "id": "b409d16c",
   "metadata": {
    "scrolled": true
   },
   "outputs": [
    {
     "data": {
      "text/plain": [
       "88.0"
      ]
     },
     "execution_count": 24,
     "metadata": {},
     "output_type": "execute_result"
    }
   ],
   "source": [
    "df['year'].median()"
   ]
  },
  {
   "cell_type": "code",
   "execution_count": 25,
   "id": "fc456b0f",
   "metadata": {},
   "outputs": [],
   "source": [
    "df['day']=df['day'].replace('nan', 14)\n",
    "df['month']=df['month'].fillna(6 )\n",
    "df['year']=df['year'].fillna(88 )"
   ]
  },
  {
   "cell_type": "markdown",
   "id": "80dab9bd",
   "metadata": {},
   "source": [
    "**\"We will calculate the mean of the data and use it for imputing missing values.\"**"
   ]
  },
  {
   "cell_type": "code",
   "execution_count": 26,
   "id": "3ae5a6d4",
   "metadata": {},
   "outputs": [
    {
     "data": {
      "text/plain": [
       "0"
      ]
     },
     "execution_count": 26,
     "metadata": {},
     "output_type": "execute_result"
    }
   ],
   "source": [
    "df['year'].isnull().sum()"
   ]
  },
  {
   "cell_type": "code",
   "execution_count": 27,
   "id": "f8344180",
   "metadata": {},
   "outputs": [],
   "source": [
    "df['year']=df['year'].astype(int)\n",
    "df['month']=df['month'].astype(int)\n",
    "df['day']=df['day'].astype(int)\n",
    "df['Tyear']=df['Tyear'].astype(int)\n",
    "df['Tmonth']=df['Tmonth'].astype(int)\n",
    "df['Tday']=df['Tday'].astype(int)\n",
    "df['CustAccountBalance']=df['CustAccountBalance'].astype(int)"
   ]
  },
  {
   "cell_type": "markdown",
   "id": "2998b4d7",
   "metadata": {},
   "source": [
    "**\"We will convert all columns to integer data type.\"**"
   ]
  },
  {
   "cell_type": "code",
   "execution_count": 28,
   "id": "b3f557e4",
   "metadata": {
    "scrolled": false
   },
   "outputs": [
    {
     "name": "stdout",
     "output_type": "stream",
     "text": [
      "<class 'pandas.core.frame.DataFrame'>\n",
      "RangeIndex: 1048567 entries, 0 to 1048566\n",
      "Data columns (total 11 columns):\n",
      " #   Column                   Non-Null Count    Dtype  \n",
      "---  ------                   --------------    -----  \n",
      " 0   CustGender               1048567 non-null  object \n",
      " 1   CustLocation             1048567 non-null  object \n",
      " 2   CustAccountBalance       1048567 non-null  int32  \n",
      " 3   TransactionTime          1048567 non-null  int64  \n",
      " 4   TransactionAmount (INR)  1048567 non-null  float64\n",
      " 5   day                      1048567 non-null  int32  \n",
      " 6   month                    1048567 non-null  int32  \n",
      " 7   year                     1048567 non-null  int32  \n",
      " 8   Tday                     1048567 non-null  int32  \n",
      " 9   Tmonth                   1048567 non-null  int32  \n",
      " 10  Tyear                    1048567 non-null  int32  \n",
      "dtypes: float64(1), int32(7), int64(1), object(2)\n",
      "memory usage: 60.0+ MB\n"
     ]
    }
   ],
   "source": [
    "df.info()"
   ]
  },
  {
   "cell_type": "markdown",
   "id": "46088bca",
   "metadata": {},
   "source": [
    "**\"We will verify that all columns have been successfully converted.\"**"
   ]
  },
  {
   "cell_type": "markdown",
   "id": "041a053f",
   "metadata": {},
   "source": [
    "### PERFORMING EDA"
   ]
  },
  {
   "cell_type": "code",
   "execution_count": 29,
   "id": "d339ea66",
   "metadata": {},
   "outputs": [
    {
     "data": {
      "image/png": "[encoded data removed]",
      "text/plain": [
       "<Figure size 576x576 with 2 Axes>"
      ]
     },
     "metadata": {
      "needs_background": "light"
     },
     "output_type": "display_data"
    }
   ],
   "source": [
    "plt.figure(figsize =(8, 8))\n",
    "sns.heatmap(df.corr(), annot=True, linewidths=0.05, fmt= '.2f',cmap=\"magma\")\n",
    "plt.show()\n",
    "#"
   ]
  },
  {
   "cell_type": "markdown",
   "id": "b68f7c06",
   "metadata": {},
   "source": [
    "**\"The Transaction Amount and Customer Account Balance exhibit a weak positive correlation.This suggests the presence of a discernible relationship between the Transaction Amount and Customer Account Balance.\"**"
   ]
  },
  {
   "cell_type": "code",
   "execution_count": 30,
   "id": "0cb0ec3a",
   "metadata": {},
   "outputs": [
    {
     "name": "stdout",
     "output_type": "stream",
     "text": [
      "       CustAccountBalance  TransactionTime  TransactionAmount (INR)  \\\n",
      "count        1.048567e+06     1.048567e+06             1.048567e+06   \n",
      "mean         1.154030e+05     1.570875e+05             1.574335e+03   \n",
      "std          8.455286e+05     5.126185e+04             6.574743e+03   \n",
      "min          0.000000e+00     0.000000e+00             0.000000e+00   \n",
      "25%          4.740000e+03     1.240300e+05             1.610000e+02   \n",
      "50%          1.688600e+04     1.642260e+05             4.590300e+02   \n",
      "75%          5.820600e+04     2.000100e+05             1.200000e+03   \n",
      "max          1.150355e+08     2.359590e+05             1.560035e+06   \n",
      "\n",
      "                day         month          year          Tday        Tmonth  \\\n",
      "count  1.048567e+06  1.048567e+06  1.048567e+06  1.048567e+06  1.048567e+06   \n",
      "mean   1.412941e+01  6.233998e+00  1.786683e+02  1.341827e+01  8.379845e+00   \n",
      "std    9.203236e+00  3.519333e+00  3.900515e+02  8.511588e+00  4.924856e-01   \n",
      "min    1.000000e+00  1.000000e+00  0.000000e+00  1.000000e+00  8.000000e+00   \n",
      "25%    6.000000e+00  3.000000e+00  8.200000e+01  6.000000e+00  8.000000e+00   \n",
      "50%    1.400000e+01  6.000000e+00  8.800000e+01  1.200000e+01  8.000000e+00   \n",
      "75%    2.200000e+01  9.000000e+00  9.100000e+01  2.000000e+01  9.000000e+00   \n",
      "max    3.100000e+01  1.200000e+01  1.800000e+03  3.100000e+01  1.000000e+01   \n",
      "\n",
      "           Tyear  \n",
      "count  1048567.0  \n",
      "mean        16.0  \n",
      "std          0.0  \n",
      "min         16.0  \n",
      "25%         16.0  \n",
      "50%         16.0  \n",
      "75%         16.0  \n",
      "max         16.0  \n"
     ]
    }
   ],
   "source": [
    "print(df.describe())  # Summary statistics for numerical columns\n"
   ]
  },
  {
   "cell_type": "code",
   "execution_count": 31,
   "id": "80de71ce",
   "metadata": {},
   "outputs": [
    {
     "data": {
      "text/plain": [
       "7     48422\n",
       "13    47522\n",
       "10    47410\n",
       "11    47287\n",
       "4     47246\n",
       "3     47046\n",
       "6     46225\n",
       "14    45565\n",
       "15    43925\n",
       "2     43787\n",
       "Name: Tday, dtype: int64"
      ]
     },
     "execution_count": 31,
     "metadata": {},
     "output_type": "execute_result"
    }
   ],
   "source": [
    "category_counts=df['Tday'].value_counts()\n",
    "top_10_categories = category_counts.head(10)\n",
    "top_10_categories"
   ]
  },
  {
   "cell_type": "markdown",
   "id": "9065e7a8",
   "metadata": {},
   "source": [
    "**\"It appears there are significant transaction spikes on specific days: the 4th, 7th, 10th, 11th, and 13th of each month, each registering approximately 50,000 transactions.\"**"
   ]
  },
  {
   "cell_type": "code",
   "execution_count": 32,
   "id": "f75d292d",
   "metadata": {},
   "outputs": [
    {
     "name": "stdout",
     "output_type": "stream",
     "text": [
      "M      765530\n",
      "F      281936\n",
      "[M]      1100\n",
      "T           1\n",
      "Name: CustGender, dtype: int64\n"
     ]
    }
   ],
   "source": [
    "print(df['CustGender'].value_counts())  # Frequency counts for 'CustGender'\n"
   ]
  },
  {
   "cell_type": "markdown",
   "id": "14bd9155",
   "metadata": {},
   "source": [
    "**\"In terms of transaction volume, it appears that males have conducted significantly more transactions than females. Specifically, males have completed 765,530 transactions, while females have conducted 281,936 transactions.\"**"
   ]
  },
  {
   "cell_type": "code",
   "execution_count": 33,
   "id": "85598e31",
   "metadata": {},
   "outputs": [
    {
     "name": "stdout",
     "output_type": "stream",
     "text": [
      "MUMBAI                         103595\n",
      "NEW DELHI                       84928\n",
      "BANGALORE                       81555\n",
      "GURGAON                         73818\n",
      "DELHI                           71019\n",
      "                                ...  \n",
      "ROAD (E) THANE                      1\n",
      "TO APOLO PHARMACY BANGALORE         1\n",
      "PILLAR NO 725 NEW DELHI             1\n",
      "COMPANY BANGALORE                   1\n",
      "IMPERIA THANE WEST                  1\n",
      "Name: CustLocation, Length: 9356, dtype: int64\n"
     ]
    }
   ],
   "source": [
    "print(df['CustLocation'].value_counts())  # Frequency counts for 'CustGender'\n"
   ]
  },
  {
   "cell_type": "markdown",
   "id": "5eb46115",
   "metadata": {},
   "source": [
    "**\"The cities with the highest transaction volumes are Mumbai, New Delhi, Bangalore, Gurugram, and Delhi. Identifying these key locations can guide strategic decisions related to market expansion, resource allocation, and customer engagement initiatives.\"**"
   ]
  },
  {
   "cell_type": "markdown",
   "id": "f9d04daa",
   "metadata": {},
   "source": [
    "# Graphical EDA"
   ]
  },
  {
   "cell_type": "code",
   "execution_count": 34,
   "id": "aa5c7ab5",
   "metadata": {},
   "outputs": [
    {
     "data": {
      "image/png": "[encoded data removed]",
      "text/plain": [
       "<Figure size 720x432 with 1 Axes>"
      ]
     },
     "metadata": {
      "needs_background": "light"
     },
     "output_type": "display_data"
    }
   ],
   "source": [
    "category_counts = df['CustLocation'].value_counts()\n",
    "\n",
    "# Select the top 10 categories\n",
    "top_10_categories = category_counts.head(10)\n",
    "\n",
    "# Plot the top 10 categories\n",
    "plt.figure(figsize=(10, 6))  # Set figure size\n",
    "sns.barplot(x=top_10_categories.index, y=top_10_categories.values)\n",
    "plt.title('Top 10 Categories')\n",
    "plt.xlabel('Category')\n",
    "plt.ylabel('Frequency')\n",
    "plt.xticks(rotation=45)  # Rotate x-axis labels for better readability\n",
    "plt.show()"
   ]
  },
  {
   "cell_type": "markdown",
   "id": "ef67e9b2",
   "metadata": {},
   "source": [
    "**\"Certainly. Transactions are highest in major metropolitan cities like Mumbai, New Delhi, Bangalore, Gurugram, Delhi, Noida, Chennai, Pune, and Thane due to their robust network connectivity and economic activity.\"**"
   ]
  },
  {
   "cell_type": "code",
   "execution_count": 35,
   "id": "10782707",
   "metadata": {},
   "outputs": [
    {
     "data": {
      "image/png": "[encoded data removed]",
      "text/plain": [
       "<Figure size 432x288 with 1 Axes>"
      ]
     },
     "metadata": {
      "needs_background": "light"
     },
     "output_type": "display_data"
    }
   ],
   "source": [
    "sns.scatterplot(data=df, x='CustAccountBalance', y='TransactionAmount (INR)')\n",
    "plt.show()\n"
   ]
  },
  {
   "cell_type": "markdown",
   "id": "f1f7b5fa",
   "metadata": {},
   "source": [
    "**\"It appears there is a modest positive correlation between transaction amount and customer account balance. This suggests that, on average, customers with higher balances tend to make slightly larger transactions, although the relationship is not very strong. Understanding this correlation can help in assessing customer behavior and tailoring financial services accordingly.\"**"
   ]
  },
  {
   "cell_type": "code",
   "execution_count": 36,
   "id": "04ed7e02",
   "metadata": {
    "scrolled": true
   },
   "outputs": [
    {
     "data": {
      "image/png": "[encoded data removed]",
      "text/plain": [
       "<Figure size 432x288 with 1 Axes>"
      ]
     },
     "metadata": {
      "needs_background": "light"
     },
     "output_type": "display_data"
    }
   ],
   "source": [
    "sns.lineplot(data=df, x='day', y='TransactionAmount (INR)')\n",
    "plt.show()"
   ]
  },
  {
   "cell_type": "markdown",
   "id": "e7e5f8c0",
   "metadata": {},
   "source": [
    "**\"It seems transaction volumes peak on the 1st and 2nd days of each month, as well as on the 15th and 24th. Additionally, there's a relatively steady level of transactions observed on the 10th of each month. Identifying these patterns can aid in resource planning and optimizing operational efficiency to accommodate fluctuations in transaction activity.\"**"
   ]
  },
  {
   "cell_type": "code",
   "execution_count": 37,
   "id": "c3177a84",
   "metadata": {},
   "outputs": [
    {
     "data": {
      "image/png": "[encoded data removed]",
      "text/plain": [
       "<Figure size 432x288 with 1 Axes>"
      ]
     },
     "metadata": {
      "needs_background": "light"
     },
     "output_type": "display_data"
    }
   ],
   "source": [
    "sns.lineplot(data=df, x='month', y='TransactionAmount (INR)')\n",
    "plt.show()"
   ]
  },
  {
   "cell_type": "markdown",
   "id": "b575771b",
   "metadata": {},
   "source": [
    "**\"It appears there are significant transaction peaks in the 1st and 11th months, with noticeable fluctuations throughout the year. Specifically, there's a notable decrease in transaction activity during the 8th month.\"**"
   ]
  },
  {
   "cell_type": "code",
   "execution_count": 38,
   "id": "c47bad8e",
   "metadata": {},
   "outputs": [
    {
     "data": {
      "text/plain": [
       "<AxesSubplot:>"
      ]
     },
     "execution_count": 38,
     "metadata": {},
     "output_type": "execute_result"
    },
    {
     "data": {
      "image/png": "[encoded data removed]",
      "text/plain": [
       "<Figure size 432x288 with 1 Axes>"
      ]
     },
     "metadata": {
      "needs_background": "light"
     },
     "output_type": "display_data"
    }
   ],
   "source": [
    "\n",
    "top_10_categories=df['Tyear'].value_counts().head(10)\n",
    "\n",
    "sns.barplot(x=top_10_categories.index, y=top_10_categories.values)"
   ]
  },
  {
   "cell_type": "markdown",
   "id": "4b885a17",
   "metadata": {},
   "source": [
    "**\"Based on the provided information, it seems that the dataset exclusively comprises transactions from the year 2016. This understanding is crucial for accurately analyzing trends and making informed decisions based on the data's temporal scope.\"**"
   ]
  },
  {
   "cell_type": "code",
   "execution_count": 39,
   "id": "a9147dd5",
   "metadata": {},
   "outputs": [
    {
     "data": {
      "image/png": "[encoded data removed]",
      "text/plain": [
       "<Figure size 432x288 with 1 Axes>"
      ]
     },
     "metadata": {
      "needs_background": "light"
     },
     "output_type": "display_data"
    }
   ],
   "source": [
    "sns.lineplot(data=df, x='Tyear', y='TransactionAmount (INR)')\n",
    "plt.show()"
   ]
  },
  {
   "cell_type": "code",
   "execution_count": 40,
   "id": "eb181812",
   "metadata": {
    "scrolled": true
   },
   "outputs": [
    {
     "data": {
      "text/plain": [
       "<AxesSubplot:xlabel='Tday', ylabel='count'>"
      ]
     },
     "execution_count": 40,
     "metadata": {},
     "output_type": "execute_result"
    },
    {
     "data": {
      "image/png": "[encoded data removed]",
      "text/plain": [
       "<Figure size 432x288 with 1 Axes>"
      ]
     },
     "metadata": {
      "needs_background": "light"
     },
     "output_type": "display_data"
    }
   ],
   "source": [
    "sns.countplot(data=df, x='Tday')"
   ]
  },
  {
   "cell_type": "markdown",
   "id": "508202f9",
   "metadata": {},
   "source": [
    "**\"From the graph analysis, it's evident that transaction volumes fluctuate from day 1 to day 15, with higher activity observed during this period. However, after day 15, there's a general decrease in transactions. Interestingly, there's a spike in activity on day 18, which deviates from the overall trend.\"**"
   ]
  },
  {
   "cell_type": "code",
   "execution_count": 41,
   "id": "0fdb4122",
   "metadata": {
    "scrolled": true
   },
   "outputs": [
    {
     "data": {
      "text/plain": [
       "<AxesSubplot:xlabel='month', ylabel='count'>"
      ]
     },
     "execution_count": 41,
     "metadata": {},
     "output_type": "execute_result"
    },
    {
     "data": {
      "image/png": "[encoded data removed]",
      "text/plain": [
       "<Figure size 432x288 with 1 Axes>"
      ]
     },
     "metadata": {
      "needs_background": "light"
     },
     "output_type": "display_data"
    }
   ],
   "source": [
    "sns.countplot(data=df, x='month')"
   ]
  },
  {
   "cell_type": "markdown",
   "id": "17d001b0",
   "metadata": {},
   "source": [
    "**Mostly people were born in January and July** "
   ]
  },
  {
   "cell_type": "code",
   "execution_count": 42,
   "id": "73296688",
   "metadata": {
    "scrolled": true
   },
   "outputs": [
    {
     "data": {
      "image/png": "[encoded data removed]",
      "text/plain": [
       "<Figure size 576x432 with 1 Axes>"
      ]
     },
     "metadata": {},
     "output_type": "display_data"
    }
   ],
   "source": [
    "gender_counts = df['CustGender'].value_counts()\n",
    "\n",
    "# Custom labels for the pie chart\n",
    "labels = ['Male', 'Female']\n",
    "\n",
    "# Plot pie chart with custom labels\n",
    "plt.figure(figsize=(8, 6))\n",
    "plt.pie(gender_counts,autopct='%1.1f%%')\n",
    "plt.title('Pie Chart of CustGender')\n",
    "plt.axis('equal')  # Equal aspect ratio ensures that pie is drawn as a circle\n",
    "plt.show()"
   ]
  },
  {
   "cell_type": "markdown",
   "id": "2a58a8b5",
   "metadata": {},
   "source": [
    "**Based on the color-coded percentages:**\n",
    "\n",
    "- Blue (73.0%): This indicates the likely percentage of male customers.\n",
    "- Orange (26.9%): This suggests the likely percentage of female customers.\n",
    "\n",
    "**Understanding the gender distribution among customers is valuable for targeted marketing efforts and tailoring services to meet the needs of different demographic groups.**"
   ]
  },
  {
   "cell_type": "code",
   "execution_count": 43,
   "id": "184db708",
   "metadata": {
    "scrolled": true
   },
   "outputs": [
    {
     "data": {
      "text/plain": [
       "<AxesSubplot:xlabel='Tmonth', ylabel='count'>"
      ]
     },
     "execution_count": 43,
     "metadata": {},
     "output_type": "execute_result"
    },
    {
     "data": {
      "image/png": "[encoded data removed]",
      "text/plain": [
       "<Figure size 432x288 with 1 Axes>"
      ]
     },
     "metadata": {
      "needs_background": "light"
     },
     "output_type": "display_data"
    }
   ],
   "source": [
    "sns.countplot(data=df, x='Tmonth')"
   ]
  },
  {
   "cell_type": "markdown",
   "id": "6656ab5d",
   "metadata": {},
   "source": [
    "**\"In the month of August (month 8), there appears to be a higher frequency of spending, suggesting a possible seasonal trend.\"**"
   ]
  },
  {
   "cell_type": "markdown",
   "id": "98a734d3",
   "metadata": {},
   "source": [
    "# Multi variate analysis"
   ]
  },
  {
   "cell_type": "code",
   "execution_count": 48,
   "id": "45e2ea48",
   "metadata": {},
   "outputs": [
    {
     "data": {
      "text/plain": [
       "<AxesSubplot:xlabel='CustGender', ylabel='TransactionAmount (INR)'>"
      ]
     },
     "execution_count": 48,
     "metadata": {},
     "output_type": "execute_result"
    },
    {
     "data": {
      "image/png": "[encoded data removed]",
      "text/plain": [
       "<Figure size 432x288 with 1 Axes>"
      ]
     },
     "metadata": {
      "needs_background": "light"
     },
     "output_type": "display_data"
    }
   ],
   "source": [
    "sns.boxplot(x=df['CustGender'].astype(str), y=df['TransactionAmount (INR)'])"
   ]
  },
  {
   "cell_type": "code",
   "execution_count": 49,
   "id": "1d31b131",
   "metadata": {},
   "outputs": [
    {
     "data": {
      "text/plain": [
       "<AxesSubplot:xlabel='CustGender', ylabel='CustAccountBalance'>"
      ]
     },
     "execution_count": 49,
     "metadata": {},
     "output_type": "execute_result"
    },
    {
     "data": {
      "image/png": "[encoded data removed]",
      "text/plain": [
       "<Figure size 432x288 with 1 Axes>"
      ]
     },
     "metadata": {
      "needs_background": "light"
     },
     "output_type": "display_data"
    }
   ],
   "source": [
    "sns.boxplot(x=df['CustGender'].astype(str), y=df['CustAccountBalance'])"
   ]
  },
  {
   "cell_type": "code",
   "execution_count": null,
   "id": "0a15947b",
   "metadata": {},
   "outputs": [
    {
     "name": "stdout",
     "output_type": "stream",
     "text": [
      "<class 'pandas.core.frame.DataFrame'>\n",
      "RangeIndex: 1048567 entries, 0 to 1048566\n",
      "Data columns (total 11 columns):\n",
      " #   Column                   Non-Null Count    Dtype  \n",
      "---  ------                   --------------    -----  \n",
      " 0   CustGender               1048567 non-null  object \n",
      " 1   CustLocation             1048567 non-null  object \n",
      " 2   CustAccountBalance       1048567 non-null  int32  \n",
      " 3   TransactionTime          1048567 non-null  int64  \n",
      " 4   TransactionAmount (INR)  1048567 non-null  float64\n",
      " 5   day                      1048567 non-null  int32  \n",
      " 6   month                    1048567 non-null  int32  \n",
      " 7   year                     1048567 non-null  int32  \n",
      " 8   Tday                     1048567 non-null  int32  \n",
      " 9   Tmonth                   1048567 non-null  int32  \n",
      " 10  Tyear                    1048567 non-null  int32  \n",
      "dtypes: float64(1), int32(7), int64(1), object(2)\n",
      "memory usage: 60.0+ MB\n"
     ]
    }
   ],
   "source": [
    "df.info()"
   ]
  },
  {
   "cell_type": "code",
   "execution_count": 50,
   "id": "0af0246e",
   "metadata": {},
   "outputs": [
    {
     "data": {
      "text/plain": [
       "<AxesSubplot:xlabel='CustGender', ylabel='Tday'>"
      ]
     },
     "execution_count": 50,
     "metadata": {},
     "output_type": "execute_result"
    },
    {
     "data": {
      "image/png": "[encoded data removed]",
      "text/plain": [
       "<Figure size 432x288 with 1 Axes>"
      ]
     },
     "metadata": {
      "needs_background": "light"
     },
     "output_type": "display_data"
    }
   ],
   "source": [
    "sns.boxplot(x=df['CustGender'].astype(str), y=df['Tday'])"
   ]
  },
  {
   "cell_type": "code",
   "execution_count": 51,
   "id": "424fd423",
   "metadata": {},
   "outputs": [
    {
     "data": {
      "text/plain": [
       "<AxesSubplot:xlabel='CustGender', ylabel='Tmonth'>"
      ]
     },
     "execution_count": 51,
     "metadata": {},
     "output_type": "execute_result"
    },
    {
     "data": {
      "image/png": "[encoded data removed]",
      "text/plain": [
       "<Figure size 432x288 with 1 Axes>"
      ]
     },
     "metadata": {
      "needs_background": "light"
     },
     "output_type": "display_data"
    }
   ],
   "source": [
    "sns.boxplot(x=df['CustGender'].astype(str), y=df['Tmonth'])"
   ]
  },
  {
   "cell_type": "markdown",
   "id": "662faf53",
   "metadata": {},
   "source": [
    "### performing one sample t test "
   ]
  },
  {
   "cell_type": "code",
   "execution_count": null,
   "id": "e5a66a48",
   "metadata": {},
   "outputs": [
    {
     "name": "stdout",
     "output_type": "stream",
     "text": [
      "One-sample t-test:\n",
      "Test statistic: 138.55026993809628\n",
      "p-value: 0.0\n"
     ]
    }
   ],
   "source": [
    "import scipy.stats as stats\n",
    "\n",
    "# Example data\n",
    "sample = df['CustAccountBalance']\n",
    "\n",
    "# Calculate the mean of the sample\n",
    "sample_mean = sample.mean()\n",
    "\n",
    "# Specify the expected mean under the null hypothesis (can be any value you're testing against)\n",
    "expected_mean = 1000  # Example: testing whether the sample mean is equal to 1000\n",
    "\n",
    "# Perform one-sample t-test\n",
    "test_statistic, p_value = stats.ttest_1samp(sample, popmean=expected_mean)\n",
    "\n",
    "# Print results\n",
    "print(\"One-sample t-test:\")\n",
    "print(\"Test statistic:\", test_statistic)\n",
    "print(\"p-value:\", p_value)\n"
   ]
  },
  {
   "cell_type": "markdown",
   "id": "300e006d",
   "metadata": {},
   "source": [
    "##### The test statistic is 138.55. This indicates that the sample mean is significantly different from the expected mean."
   ]
  },
  {
   "cell_type": "markdown",
   "id": "7ecde6d4",
   "metadata": {},
   "source": [
    "### perfroming ANOVA"
   ]
  },
  {
   "cell_type": "code",
   "execution_count": null,
   "id": "8913d432",
   "metadata": {},
   "outputs": [
    {
     "name": "stdout",
     "output_type": "stream",
     "text": [
      "ANOVA:\n",
      "F-statistic: 62.04294088110968\n",
      "p-value: 1.152211689099539e-27\n"
     ]
    }
   ],
   "source": [
    "import scipy.stats as stats\n",
    "\n",
    "# Example data\n",
    "group1 = df[df['CustLocation'].str.upper() == 'MUMBAI']['TransactionAmount (INR)']\n",
    "group2 = df[df['CustLocation'].str.upper() == 'NEW DELHI']['TransactionAmount (INR)']\n",
    "group3 = df[df['CustLocation'].str.upper() == 'DELHI']['TransactionAmount (INR)']\n",
    "\n",
    "# Perform ANOVA test\n",
    "f_statistic, p_value = stats.f_oneway(group1, group2, group3)\n",
    "\n",
    "# Print results\n",
    "print(\"ANOVA:\")\n",
    "print(\"F-statistic:\", f_statistic)\n",
    "print(\"p-value:\", p_value)\n"
   ]
  },
  {
   "cell_type": "markdown",
   "id": "f05ce150",
   "metadata": {},
   "source": [
    " ##### The F-statistic is 62.04, which is quite large. This suggests that there is a significant difference in the means of at least one pair of groups."
   ]
  },
  {
   "cell_type": "code",
   "execution_count": null,
   "id": "1cd2cfe4",
   "metadata": {},
   "outputs": [],
   "source": []
  }
 ],
 "metadata": {
  "kernelspec": {
   "display_name": "Python 3 (ipykernel)",
   "language": "python",
   "name": "python3"
  },
  "language_info": {
   "codemirror_mode": {
    "name": "ipython",
    "version": 3
   },
   "file_extension": ".py",
   "mimetype": "text/x-python",
   "name": "python",
   "nbconvert_exporter": "python",
   "pygments_lexer": "ipython3",
   "version": "3.9.7"
  }
 },
 "nbformat": 4,
 "nbformat_minor": 5
}
